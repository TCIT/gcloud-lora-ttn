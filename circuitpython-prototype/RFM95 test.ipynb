{
 "cells": [
  {
   "cell_type": "code",
   "execution_count": 20,
   "metadata": {},
   "outputs": [
    {
     "name": "stdout",
     "output_type": "stream",
     "text": [
      "serial exception on close write failed: [Errno 6] Device not configured\n",
      "\u001b[34mConnecting to --port=/dev/tty.usbmodem14601 --baud=115200 \u001b[0m\n",
      "\u001b[34mReady.\n",
      "\u001b[0m"
     ]
    }
   ],
   "source": [
    "%serialconnect --port /dev/tty.usbmodem14601 --baud=115200"
   ]
  },
  {
   "cell_type": "code",
   "execution_count": 21,
   "metadata": {},
   "outputs": [],
   "source": [
    "import board\n",
    "import busio\n",
    "import digitalio\n",
    "\n",
    "import adafruit_rfm9x\n",
    "\n",
    "\n",
    "# Define radio parameters.\n",
    "RADIO_FREQ_MHZ = 915.0  # Frequency of the radio in Mhz. Must match your\n",
    "                        # module! Can be a value like 915.0, 433.0, etc.\n",
    "\n",
    "# Define pins connected to the chip, use these if wiring up the breakout according to the guide:\n",
    "#CS = digitalio.DigitalInOut(board.D5)\n",
    "#RESET = digitalio.DigitalInOut(board.D6)\n",
    "# Or uncomment and instead use these if using a Feather M0 RFM9x board and the appropriate\n",
    "# CircuitPython build:\n",
    "CS = digitalio.DigitalInOut(board.RFM9X_CS)\n",
    "RESET = digitalio.DigitalInOut(board.RFM9X_RST)\n",
    "\n",
    "# Define the onboard LED\n",
    "LED = digitalio.DigitalInOut(board.D13)\n",
    "LED.direction = digitalio.Direction.OUTPUT\n",
    "\n",
    "# Initialize SPI bus.\n",
    "spi = busio.SPI(board.SCK, MOSI=board.MOSI, MISO=board.MISO)"
   ]
  },
  {
   "cell_type": "code",
   "execution_count": 22,
   "metadata": {},
   "outputs": [
    {
     "name": "stdout",
     "output_type": "stream",
     "text": [
      "['A0', 'A1', 'A2', 'A3', 'A4', 'A5', 'BATTERY', 'D0', 'D1', 'D10', 'D11', 'D12', 'D13', 'D5', 'D6', 'D9', 'I2C', 'MISO', 'MOSI', 'RFM9X_CS', 'RFM9X_D0', 'RFM9X_RST', 'RX', 'SCK', 'SCL', 'SDA', 'SPI', 'TX', 'UART', 'VOLTAGE_MONITOR']\n",
      "microcontroller.pin.RFM9X_CS\n"
     ]
    }
   ],
   "source": [
    "print(dir(board))\n",
    "print(board.RFM9X_CS)"
   ]
  },
  {
   "cell_type": "code",
   "execution_count": 24,
   "metadata": {},
   "outputs": [
    {
     "name": "stdout",
     "output_type": "stream",
     "text": [
      "['__file__', '__name__', 'const', 'digitalio', 'time', 'warn', 'spidev', '__version__', '__repo__', '_RH_RF95_FXOSC', '_RH_RF95_FSTEP', 'SLEEP_MODE', 'STANDBY_MODE', 'FS_TX_MODE', 'TX_MODE', 'FS_RX_MODE', 'RX_MODE', 'RFM9x']\r\n"
     ]
    },
    {
     "name": "stderr",
     "output_type": "stream",
     "text": [
      "Traceback (most recent call last):\n",
      "  File \"<stdin>\", line 3, in <module>\n",
      "  File \"adafruit_rfm9x.py\", line 374, in __init__\n",
      "  File \"adafruit_rfm9x.py\", line 372, in __init__\n",
      "RuntimeError: Failed to configure radio for LoRa mode, check wiring!\n"
     ]
    }
   ],
   "source": [
    "print(dir(adafruit_rfm9x))\n",
    "# Initialze RFM radio\n",
    "rfm9x = adafruit_rfm9x.RFM9x(spi, CS, RESET, RADIO_FREQ_MHZ)\n",
    "\n",
    "# Note that the radio is configured in LoRa mode so you can't control sync\n",
    "# word, encryption, frequency deviation, or other settings!\n",
    "\n",
    "# You can however adjust the transmit power (in dB).  The default is 13 dB but\n",
    "# high power radios like the RFM95 can go up to 23 dB:\n",
    "rfm9x.tx_power = 23\n",
    "\n",
    "# Send a packet.  Note you can only send a packet up to 252 bytes in length.\n",
    "# This is a limitation of the radio packet size, so if you need to send larger\n",
    "# amounts of data you will need to break it into smaller send calls.  Each send\n",
    "# call will wait for the previous one to finish before continuing.\n",
    "rfm9x.send(bytes(\"Hello world!\\r\\n\",\"utf-8\"))\n",
    "print('Sent Hello World message!')\n",
    "\n",
    "# Wait to receive packets.  Note that this library can't receive data at a fast\n",
    "# rate, in fact it can only receive and process one 252 byte packet at a time.\n",
    "# This means you should only use this for low bandwidth scenarios, like sending\n",
    "# and receiving a single message at a time.\n",
    "print('Waiting for packets...')\n",
    "\n",
    "while True:\n",
    "    packet = rfm9x.receive()\n",
    "    # Optionally change the receive timeout from its default of 0.5 seconds:\n",
    "    #packet = rfm9x.receive(timeout=5.0)\n",
    "    # If no packet was received during the timeout then None is returned.\n",
    "    if packet is None:\n",
    "        # Packet has not been received\n",
    "        LED.value = False\n",
    "        print('Received nothing! Listening again...')\n",
    "    else:\n",
    "        # Received a packet!\n",
    "        LED.value = True\n",
    "        # Print out the raw bytes of the packet:\n",
    "        print('Received (raw bytes): {0}'.format(packet))\n",
    "        # And decode to ASCII text and print it too.  Note that you always\n",
    "        # receive raw bytes and need to convert to a text format like ASCII\n",
    "        # if you intend to do string processing on your data.  Make sure the\n",
    "        # sending side is sending ASCII data before you try to decode!\n",
    "        packet_text = str(packet, 'ascii')\n",
    "        print('Received (ASCII): {0}'.format(packet_text))\n",
    "        # Also read the RSSI (signal strength) of the last received message and\n",
    "        # print it.\n",
    "        rssi = rfm9x.rssi\n",
    "        print('Received signal strength: {0} dB'.format(rssi))"
   ]
  },
  {
   "cell_type": "code",
   "execution_count": null,
   "metadata": {},
   "outputs": [],
   "source": []
  }
 ],
 "metadata": {
  "kernelspec": {
   "display_name": "MicroPython - USB",
   "language": "micropython",
   "name": "micropython"
  },
  "language_info": {
   "codemirror_mode": "python",
   "file_extension": ".py",
   "mimetype": "text/python",
   "name": "micropython"
  }
 },
 "nbformat": 4,
 "nbformat_minor": 2
}
