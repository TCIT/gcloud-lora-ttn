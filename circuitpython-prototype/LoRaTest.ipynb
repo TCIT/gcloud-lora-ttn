{
 "cells": [
  {
   "cell_type": "markdown",
   "metadata": {},
   "source": [
    "# LoRa, TTN and CircuitPython"
   ]
  },
  {
   "cell_type": "markdown",
   "metadata": {},
   "source": [
    "### Connect to CircuitPythonboard"
   ]
  },
  {
   "cell_type": "code",
   "execution_count": 192,
   "metadata": {},
   "outputs": [
    {
     "name": "stdout",
     "output_type": "stream",
     "text": [
      "Found serial ports: /dev/cu.usbmodem14601, /dev/cu.AirPodsdeAlvaro-Wireles-2, /dev/cu.BTSPEAKER-COM3-1, /dev/cu.Bluetooth-Incoming-Port, /dev/cu.MALS, /dev/cu.SOC \n",
      "\u001b[34mConnecting to --port=/dev/cu.usbmodem14601 --baud=115200 \u001b[0m\n",
      "\u001b[34mReady.\n",
      "\u001b[0m"
     ]
    }
   ],
   "source": [
    "%serialconnect to /dev/tty.usbmodem14601 --baud=115200"
   ]
  },
  {
   "cell_type": "markdown",
   "metadata": {},
   "source": [
    "### Import Libraries and setup ids"
   ]
  },
  {
   "cell_type": "code",
   "execution_count": 193,
   "metadata": {},
   "outputs": [],
   "source": [
    "import board\n",
    "import busio\n",
    "from digitalio import DigitalInOut\n",
    "from gc import collect,mem_free"
   ]
  },
  {
   "cell_type": "code",
   "execution_count": 194,
   "metadata": {},
   "outputs": [],
   "source": [
    "# Unique feather identifier\n",
    "FEATHER_ID = 1"
   ]
  },
  {
   "cell_type": "code",
   "execution_count": 195,
   "metadata": {},
   "outputs": [
    {
     "name": "stdout",
     "output_type": "stream",
     "text": [
      "21616\r\n"
     ]
    }
   ],
   "source": [
    "print(mem_free())"
   ]
  },
  {
   "cell_type": "markdown",
   "metadata": {},
   "source": [
    "### TTN Connection"
   ]
  },
  {
   "cell_type": "code",
   "execution_count": 196,
   "metadata": {},
   "outputs": [],
   "source": [
    "from adafruit_tinylora.adafruit_tinylora import TTN, TinyLoRa"
   ]
  },
  {
   "cell_type": "code",
   "execution_count": 197,
   "metadata": {},
   "outputs": [],
   "source": [
    "# TinyLoRa/RFM9x Setup\n",
    "spi = busio.SPI(board.SCK, MOSI=board.MOSI, MISO=board.MISO)\n",
    "# pylint: disable=c-extension-no-member\n",
    "cs = DigitalInOut(board.RFM9X_CS)\n",
    "irq = DigitalInOut(board.RFM9X_D0)\n",
    "\n",
    "i2c_bus = busio.I2C(board.SCL, board.SDA)"
   ]
  },
  {
   "cell_type": "code",
   "execution_count": 198,
   "metadata": {},
   "outputs": [],
   "source": [
    "import config\n",
    "\n",
    "devaddr = config.devaddr\n",
    "nwkey = config.nwkey\n",
    "appkey = config.appkey\n",
    "#print(devaddr, nwkey, appkey)\n",
    " \n",
    "ttn_config = TTN(devaddr, nwkey, appkey, country='AU')\n",
    " \n",
    "lora = TinyLoRa(spi, cs, irq, ttn_config, channel=0)"
   ]
  },
  {
   "cell_type": "code",
   "execution_count": 199,
   "metadata": {},
   "outputs": [
    {
     "name": "stdout",
     "output_type": "stream",
     "text": [
      "9312\r\n"
     ]
    }
   ],
   "source": [
    "collect()\n",
    "print(mem_free())"
   ]
  },
  {
   "cell_type": "markdown",
   "metadata": {},
   "source": [
    "### Send Data"
   ]
  },
  {
   "cell_type": "code",
   "execution_count": 201,
   "metadata": {},
   "outputs": [],
   "source": [
    "import analogio\n",
    "vbat_voltage = analogio.AnalogIn(board.D9)"
   ]
  },
  {
   "cell_type": "code",
   "execution_count": 200,
   "metadata": {},
   "outputs": [
    {
     "name": "stderr",
     "output_type": "stream",
     "text": [
      "Traceback (most recent call last):\n",
      "  File \"<stdin>\", line 1, in <module>\n",
      "  File \"adafruit_ccs811.py\", line 76, in <module>\n",
      "  File \"adafruit_ccs811.py\", line 96, in CCS811\n",
      "MemoryError: \n"
     ]
    }
   ],
   "source": [
    "import adafruit_ccs811\n",
    "ccs811 = adafruit_ccs811.CCS811(i2c_bus, address=0x5B)"
   ]
  },
  {
   "cell_type": "code",
   "execution_count": 202,
   "metadata": {},
   "outputs": [],
   "source": [
    "def read_bat():\n",
    "    return (vbat_voltage.value * 3.3) / 65536 * 2"
   ]
  },
  {
   "cell_type": "code",
   "execution_count": 203,
   "metadata": {},
   "outputs": [],
   "source": [
    "def read_sensor():\n",
    "    # Wait for the sensor to be ready and calibrate the thermistor\n",
    "    while not ccs811.data_ready:\n",
    "        pass\n",
    "    temp = ccs811.temperature\n",
    "    ccs811.temp_offset = temp - 25.0\n",
    "    return ccs811.eco2, ccs811.tvoc, ccs811.temperature"
   ]
  },
  {
   "cell_type": "code",
   "execution_count": 150,
   "metadata": {},
   "outputs": [],
   "source": [
    "def send_data():\n",
    "    bme_d = bytearray(9)\n",
    "\n",
    "    # Grab sensor data\n",
    "    temp_val = 30\n",
    "    humid_val = 70\n",
    "    bat_val = int(read_bat() * 100)    \n",
    "\n",
    "    bme_d[0] = FEATHER_ID\n",
    "    # Temperature data\n",
    "    bme_d[1] = (temp_val >> 8) & 0xff\n",
    "    bme_d[2] = temp_val & 0xff\n",
    "    # Humidity data\n",
    "    bme_d[3] = (humid_val >> 8) & 0xff\n",
    "    bme_d[4] = humid_val & 0xff\n",
    "    # Battery data\n",
    "    bme_d[5] = (bat_val >> 8) & 0xff\n",
    "    bme_d[6] = bat_val & 0xff\n",
    "\n",
    "    print('Sending packet...')\n",
    "    lora.send_data(bme_d, len(bme_d), lora.frame_counter)\n",
    "    print('Packet sent!')\n",
    "    lora.frame_counter += 1"
   ]
  },
  {
   "cell_type": "code",
   "execution_count": 136,
   "metadata": {},
   "outputs": [
    {
     "name": "stdout",
     "output_type": "stream",
     "text": [
      "Sending packet...\n",
      "Packet sent!\n"
     ]
    }
   ],
   "source": [
    "send_data()\n",
    "#value = read_bat()\n",
    "#print(value)\n",
    "#for i in range(0,10):\n",
    "#    send_data()\n",
    "    # time.sleep(1 * 60)"
   ]
  },
  {
   "cell_type": "code",
   "execution_count": null,
   "metadata": {},
   "outputs": [],
   "source": []
  }
 ],
 "metadata": {
  "kernelspec": {
   "display_name": "MicroPython - USB",
   "language": "micropython",
   "name": "micropython"
  },
  "language_info": {
   "codemirror_mode": "python",
   "file_extension": ".py",
   "mimetype": "text/python",
   "name": "micropython"
  }
 },
 "nbformat": 4,
 "nbformat_minor": 2
}
